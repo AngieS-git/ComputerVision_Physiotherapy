{
 "cells": [
  {
   "cell_type": "code",
   "execution_count": 8,
   "metadata": {},
   "outputs": [],
   "source": [
    "import cv2\n",
    "import numpy as np\n",
    "\n",
    "def calculate_optical_flow(prev_gray, gray):\n",
    "    # Calculate optical flow using Farneback algorithm\n",
    "    flow = cv2.calcOpticalFlowFarneback(prev_gray, gray, None, 0.5, 3, 15, 3, 5, 1.2, 0)\n",
    "\n",
    "    # Convert the flow field to polar coordinates (magnitude and angle)\n",
    "    magnitude, angle = cv2.cartToPolar(flow[..., 0], flow[..., 1])\n",
    "\n",
    "    # Create an RGB image to visualize the flow\n",
    "    hsv = np.zeros_like(first_frame)\n",
    "    hsv[..., 1] = 255\n",
    "\n",
    "    # Convert the angle to the range [0, 255]\n",
    "    hsv[..., 0] = (angle * 180 / np.pi / 2).astype(np.uint8)\n",
    "\n",
    "    # Convert the magnitude to the range [0, 255]\n",
    "    hsv[..., 2] = cv2.normalize(magnitude, None, 0, 255, cv2.NORM_MINMAX).astype(np.uint8)\n",
    "\n",
    "    # Convert HSV to BGR for display\n",
    "    flow_image = cv2.cvtColor(hsv, cv2.COLOR_HSV2BGR)\n",
    "\n",
    "\n",
    "    return flow_image\n",
    "\n",
    "# Replace 'path/to/your/video/file.mp4' with the actual path to your video file\n",
    "video_path = \"D:\\MAPUA\\Thesis\\Thoracic Rotation in Quadruped - Ask Doctor Jo - Trim.mp4\"\n",
    "\n",
    "cap = cv2.VideoCapture(video_path)\n",
    "ret, first_frame = cap.read()\n",
    "prev_gray = cv2.cvtColor(first_frame, cv2.COLOR_BGR2GRAY)\n",
    "\n",
    "while True:\n",
    "    ret, frame = cap.read()\n",
    "    if not ret:\n",
    "        break\n",
    "\n",
    "    gray = cv2.cvtColor(frame, cv2.COLOR_BGR2GRAY)\n",
    "\n",
    "    # Calculate and display optical flow\n",
    "    flow_image = calculate_optical_flow(prev_gray, gray)\n",
    "    cv2.imshow('Optical Flow', flow_image)\n",
    "\n",
    "    if cv2.waitKey(30) & 0xFF == 27:  # Press 'Esc' to exit\n",
    "        break\n",
    "\n",
    "    prev_gray = gray\n",
    "\n",
    "cap.release()\n",
    "cv2.destroyAllWindows()\n"
   ]
  }
 ],
 "metadata": {
  "kernelspec": {
   "display_name": "Python 3",
   "language": "python",
   "name": "python3"
  },
  "language_info": {
   "codemirror_mode": {
    "name": "ipython",
    "version": 3
   },
   "file_extension": ".py",
   "mimetype": "text/x-python",
   "name": "python",
   "nbconvert_exporter": "python",
   "pygments_lexer": "ipython3",
   "version": "3.11.4"
  }
 },
 "nbformat": 4,
 "nbformat_minor": 2
}
