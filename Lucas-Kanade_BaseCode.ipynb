{
 "cells": [
  {
   "cell_type": "code",
   "execution_count": 23,
   "metadata": {},
   "outputs": [],
   "source": [
    "import cv2\n",
    "import mediapipe as mp\n",
    "import numpy as np\n",
    "import os\n",
    "mp_drawing = mp.solutions.drawing_utils\n",
    "mp_pose = mp.solutions.pose"
   ]
  },
  {
   "cell_type": "markdown",
   "metadata": {},
   "source": [
    "Mediapipe Pose Extraction"
   ]
  },
  {
   "cell_type": "code",
   "execution_count": 24,
   "metadata": {},
   "outputs": [
    {
     "name": "stdout",
     "output_type": "stream",
     "text": [
      "Images saved to D:\\MAPUA\\Thesis\\OutputVideo_Sample1 folder.\n"
     ]
    }
   ],
   "source": [
    "video_path = r'D:\\MAPUA\\Thesis\\Video_Sample1\\Video1.mp4'\n",
    "output_folder = r'D:\\MAPUA\\Thesis\\OutputVideo_Sample1'\n",
    "\n",
    "def extract_landmarks_from_video(video_path):\n",
    "    # Initialize MediaPipe Pose\n",
    "    mp_pose = mp.solutions.pose\n",
    "    pose = mp_pose.Pose(static_image_mode=False, min_detection_confidence=0.5, min_tracking_confidence=0.5)\n",
    "\n",
    "    # Read the video\n",
    "    cap = cv2.VideoCapture(video_path)\n",
    "\n",
    "    # Get video properties\n",
    "    frame_width = int(cap.get(cv2.CAP_PROP_FRAME_WIDTH))\n",
    "    frame_height = int(cap.get(cv2.CAP_PROP_FRAME_HEIGHT))\n",
    "    fps = cap.get(cv2.CAP_PROP_FPS)\n",
    "\n",
    "    # Create an output folder with the same name as the video file\n",
    "    output_folder_path = os.path.join(output_folder, os.path.splitext(os.path.basename(video_path))[0])\n",
    "    os.makedirs(output_folder_path, exist_ok=True)\n",
    "\n",
    "    # Iterate over each frame\n",
    "    frame_count = 0\n",
    "    while cap.isOpened():\n",
    "        ret, frame = cap.read()\n",
    "\n",
    "        if not ret:\n",
    "            break\n",
    "\n",
    "        # Convert BGR frame to RGB\n",
    "        frame_rgb = cv2.cvtColor(frame, cv2.COLOR_BGR2RGB)\n",
    "\n",
    "        # Process frame with MediaPipe Pose\n",
    "        results = pose.process(frame_rgb)\n",
    "\n",
    "        # Draw landmarks on the frame\n",
    "        if results.pose_landmarks:\n",
    "            height, width, _ = frame.shape\n",
    "            for landmark in results.pose_landmarks.landmark:\n",
    "                x, y = int(landmark.x * width), int(landmark.y * height)\n",
    "                cv2.circle(frame, (x, y), radius=5, color=(0, 255, 0), thickness=5)\n",
    "\n",
    "        # Save the frame with landmarks as an image\n",
    "        frame_path = os.path.join(output_folder_path, f\"frame_{frame_count}.jpg\")\n",
    "        cv2.imwrite(frame_path, frame)\n",
    "\n",
    "        # Display the frame\n",
    "        cv2.imshow('Frame', frame)\n",
    "        if cv2.waitKey(1) & 0xFF == ord('q'):\n",
    "            break\n",
    "\n",
    "        frame_count += 1\n",
    "\n",
    "    # Release resources\n",
    "    cap.release()\n",
    "    cv2.destroyAllWindows()\n",
    "\n",
    "    print(f\"Images saved to {output_folder} folder.\")\n",
    "\n",
    "extract_landmarks_from_video(video_path)"
   ]
  },
  {
   "cell_type": "markdown",
   "metadata": {},
   "source": [
    "\n",
    "Lucas-Kanade Optical Flow\n"
   ]
  },
  {
   "cell_type": "code",
   "execution_count": 25,
   "metadata": {},
   "outputs": [
    {
     "name": "stdout",
     "output_type": "stream",
     "text": [
      "Images with Lucas-Kanade optical flow saved to D:\\MAPUA\\Thesis\\OutputVideo_LK\\LK_Video1 folder.\n"
     ]
    }
   ],
   "source": [
    "def apply_lucas_kanade(output_folder):\n",
    "    # Create the Lucas-Kanade output folder\n",
    "    lk_output_folder = os.path.join(\"D:\\MAPUA\\Thesis\\OutputVideo_LK\", f\"LK_{os.path.basename(output_folder)}\")\n",
    "    os.makedirs(lk_output_folder, exist_ok=True)\n",
    "\n",
    "    # Get the list of image files in the output folder\n",
    "    image_files = sorted([file for file in os.listdir(output_folder) if file.endswith('.jpg')])\n",
    "\n",
    "    # Initialize Lucas-Kanade parameters\n",
    "    lk_params = dict(winSize=(15, 15), maxLevel=2, criteria=(cv2.TERM_CRITERIA_EPS | cv2.TERM_CRITERIA_COUNT, 10, 0.03))\n",
    "\n",
    "    prev_frame = None\n",
    "    prev_points = None\n",
    "    frame_count = 0\n",
    "\n",
    "    for image_file in image_files:\n",
    "        # Read the image\n",
    "        image_path = os.path.join(output_folder, image_file)\n",
    "        frame = cv2.imread(image_path)\n",
    "        gray_frame = cv2.cvtColor(frame, cv2.COLOR_BGR2GRAY)\n",
    "\n",
    "        if prev_frame is None:\n",
    "            prev_frame = gray_frame\n",
    "            prev_points = cv2.goodFeaturesToTrack(prev_frame, maxCorners=500, qualityLevel=0.3, minDistance=7)\n",
    "            continue\n",
    "\n",
    "        # Calculate optical flow using Lucas-Kanade\n",
    "        next_points, status, _ = cv2.calcOpticalFlowPyrLK(prev_frame, gray_frame, prev_points, None, **lk_params)\n",
    "\n",
    "        # Filter points based on status\n",
    "        next_points_filtered = next_points[status == 1]\n",
    "        prev_points_filtered = prev_points[status == 1]\n",
    "\n",
    "        # Draw optical flow lines on the frame\n",
    "        for (prev_x, prev_y), (next_x, next_y) in zip(prev_points_filtered, next_points_filtered):\n",
    "            prev_pt = (int(prev_x), int(prev_y))  # Convert to integers\n",
    "            next_pt = (int(next_x), int(next_y))  # Convert to integers\n",
    "            cv2.arrowedLine(frame, prev_pt, next_pt, (0, 255, 0), 2)\n",
    "            \n",
    "        # Save the frame with optical flow as an image\n",
    "        lk_frame_path = os.path.join(lk_output_folder, f\"frame_{frame_count}.jpg\")\n",
    "        cv2.imwrite(lk_frame_path, frame)\n",
    "\n",
    "        # Update the previous frame and points\n",
    "        prev_frame = gray_frame\n",
    "        prev_points = next_points\n",
    "\n",
    "        frame_count += 1\n",
    "\n",
    "    print(f\"Images with Lucas-Kanade optical flow saved to {lk_output_folder} folder.\")\n",
    "\n",
    "\n",
    "# Example usage:\n",
    "output_folder = r'D:\\MAPUA\\Thesis\\OutputVideo_Sample1\\Video1'\n",
    "apply_lucas_kanade(output_folder)"
   ]
  }
 ],
 "metadata": {
  "kernelspec": {
   "display_name": "Python 3",
   "language": "python",
   "name": "python3"
  },
  "language_info": {
   "codemirror_mode": {
    "name": "ipython",
    "version": 3
   },
   "file_extension": ".py",
   "mimetype": "text/x-python",
   "name": "python",
   "nbconvert_exporter": "python",
   "pygments_lexer": "ipython3",
   "version": "3.11.4"
  },
  "orig_nbformat": 4
 },
 "nbformat": 4,
 "nbformat_minor": 2
}
