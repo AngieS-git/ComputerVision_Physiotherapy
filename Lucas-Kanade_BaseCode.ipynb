{
 "cells": [
  {
   "cell_type": "code",
   "execution_count": 15,
   "metadata": {},
   "outputs": [],
   "source": [
    "import cv2\n",
    "import mediapipe as mp\n",
    "import numpy as np\n",
    "import os\n",
    "mp_drawing = mp.solutions.drawing_utils\n",
    "mp_pose = mp.solutions.pose"
   ]
  },
  {
   "cell_type": "code",
   "execution_count": 16,
   "metadata": {},
   "outputs": [
    {
     "name": "stdout",
     "output_type": "stream",
     "text": [
      "Images saved to D:\\MAPUA\\Thesis\\OutputVideo_Sample1 folder.\n"
     ]
    }
   ],
   "source": [
    "video_path = r'D:\\MAPUA\\Thesis\\Video_Sample1\\Video1.mp4'\n",
    "output_folder = r'D:\\MAPUA\\Thesis\\OutputVideo_Sample1'\n",
    "\n",
    "def extract_landmarks_from_video(video_path):\n",
    "    # Initialize MediaPipe Pose\n",
    "    mp_pose = mp.solutions.pose\n",
    "    pose = mp_pose.Pose(static_image_mode=False, min_detection_confidence=0.5, min_tracking_confidence=0.5)\n",
    "\n",
    "    # Read the video\n",
    "    cap = cv2.VideoCapture(video_path)\n",
    "\n",
    "    # Get video properties\n",
    "    frame_width = int(cap.get(cv2.CAP_PROP_FRAME_WIDTH))\n",
    "    frame_height = int(cap.get(cv2.CAP_PROP_FRAME_HEIGHT))\n",
    "    fps = cap.get(cv2.CAP_PROP_FPS)\n",
    "\n",
    "    # Create an output folder with the same name as the video file\n",
    "    output_folder_path = os.path.join(output_folder, os.path.splitext(os.path.basename(video_path))[0])\n",
    "    os.makedirs(output_folder_path, exist_ok=True)\n",
    "\n",
    "    # Iterate over each frame\n",
    "    frame_count = 0\n",
    "    while cap.isOpened():\n",
    "        ret, frame = cap.read()\n",
    "\n",
    "        if not ret:\n",
    "            break\n",
    "\n",
    "        # Convert BGR frame to RGB\n",
    "        frame_rgb = cv2.cvtColor(frame, cv2.COLOR_BGR2RGB)\n",
    "\n",
    "        # Process frame with MediaPipe Pose\n",
    "        results = pose.process(frame_rgb)\n",
    "\n",
    "        # Draw landmarks on the frame\n",
    "        if results.pose_landmarks:\n",
    "            height, width, _ = frame.shape\n",
    "            for landmark in results.pose_landmarks.landmark:\n",
    "                x, y = int(landmark.x * width), int(landmark.y * height)\n",
    "                cv2.circle(frame, (x, y), radius=5, color=(0, 255, 0), thickness=5)\n",
    "\n",
    "        # Save the frame with landmarks as an image\n",
    "        frame_path = os.path.join(output_folder_path, f\"frame_{frame_count}.jpg\")\n",
    "        cv2.imwrite(frame_path, frame)\n",
    "\n",
    "        # Display the frame\n",
    "        cv2.imshow('Frame', frame)\n",
    "        if cv2.waitKey(1) & 0xFF == ord('q'):\n",
    "            break\n",
    "\n",
    "        frame_count += 1\n",
    "\n",
    "    # Release resources\n",
    "    cap.release()\n",
    "    cv2.destroyAllWindows()\n",
    "\n",
    "    print(f\"Images saved to {output_folder} folder.\")\n",
    "\n",
    "extract_landmarks_from_video(video_path)"
   ]
  },
  {
   "cell_type": "code",
   "execution_count": null,
   "metadata": {},
   "outputs": [],
   "source": []
  }
 ],
 "metadata": {
  "kernelspec": {
   "display_name": "Python 3",
   "language": "python",
   "name": "python3"
  },
  "language_info": {
   "codemirror_mode": {
    "name": "ipython",
    "version": 3
   },
   "file_extension": ".py",
   "mimetype": "text/x-python",
   "name": "python",
   "nbconvert_exporter": "python",
   "pygments_lexer": "ipython3",
   "version": "3.11.4"
  },
  "orig_nbformat": 4
 },
 "nbformat": 4,
 "nbformat_minor": 2
}
