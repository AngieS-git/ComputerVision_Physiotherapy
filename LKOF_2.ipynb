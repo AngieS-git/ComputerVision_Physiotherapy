{
 "cells": [
  {
   "cell_type": "code",
   "execution_count": 1,
   "metadata": {},
   "outputs": [],
   "source": [
    "import cv2\n",
    "import numpy as np\n",
    "import matplotlib.pyplot as plt"
   ]
  },
  {
   "cell_type": "markdown",
   "metadata": {},
   "source": [
    "Base Code (cleaned up version)"
   ]
  },
  {
   "cell_type": "code",
   "execution_count": 8,
   "metadata": {},
   "outputs": [
    {
     "name": "stdout",
     "output_type": "stream",
     "text": [
      "Selected Point Coordinates:  322 322\n"
     ]
    }
   ],
   "source": [
    "def initialize_point():\n",
    "    # Point is initialized by clicking with the mouse\n",
    "    ix, iy = -1, -1  # Initialize coordinates\n",
    "    prompt_shown = False\n",
    "\n",
    "    def onMouse(event, x, y, flags, params):\n",
    "        nonlocal ix, iy, prompt_shown\n",
    "        if event == cv2.EVENT_LBUTTONDOWN:\n",
    "            ix, iy = x, y\n",
    "            prompt_shown = True\n",
    "\n",
    "    cv2.namedWindow(\"Camera\")\n",
    "    cv2.setMouseCallback(\"Camera\", onMouse)\n",
    "\n",
    "    cap = cv2.VideoCapture(0)\n",
    "    old_frame = None  # Initialize old_frame\n",
    "\n",
    "    while True:\n",
    "        _, frame = cap.read()\n",
    "\n",
    "        if not prompt_shown:\n",
    "            font_scale = 0.7\n",
    "            font_color = (0, 225, 0)\n",
    "            font_thickness = 2\n",
    "            cv2.putText(frame, \"Select a point to track (left-click)\", (10, 30), cv2.FONT_HERSHEY_SIMPLEX,\n",
    "                        font_scale, font_color, font_thickness)\n",
    "\n",
    "        cv2.imshow(\"Camera\", frame)\n",
    "\n",
    "        # Display coordinates on the camera frame\n",
    "        if ix != -1 and iy != -1:\n",
    "            cv2.circle(frame, (ix, iy), 5, (0, 225, 0), -1)\n",
    "\n",
    "        key = cv2.waitKey(1)\n",
    "        if key == 27 or prompt_shown:\n",
    "            break\n",
    "\n",
    "    old_frame = cv2.cvtColor(frame, cv2.COLOR_BGR2GRAY)\n",
    "    old_points = np.array([[ix, iy]], dtype=\"float32\").reshape(-1, 1, 2)\n",
    "    cap.release()\n",
    "    cv2.destroyAllWindows()\n",
    "\n",
    "    return old_frame, old_points, ix, iy\n",
    "\n",
    "def track_point(old_frame, old_points, initial_x, initial_y):\n",
    "    cap = cv2.VideoCapture(0)\n",
    "\n",
    "    while True:\n",
    "        _, frame2 = cap.read()\n",
    "\n",
    "        if frame2 is None:  # Check if frame2 is valid\n",
    "            break\n",
    "\n",
    "        new_frame = cv2.cvtColor(frame2, cv2.COLOR_BGR2GRAY)\n",
    "\n",
    "        new_points, status, error = cv2.calcOpticalFlowPyrLK(old_frame, new_frame, old_points,\n",
    "                                                             None, maxLevel=1,\n",
    "                                                             criteria=(cv2.TERM_CRITERIA_EPS | cv2.TERM_CRITERIA_COUNT,\n",
    "                                                                       15, 0.08))\n",
    "\n",
    "        # Draw a slightly bigger dot at the new point\n",
    "        if status.ravel()[0] == 1:  # Check if the point is successfully tracked\n",
    "            x, y = new_points.ravel()\n",
    "            mask = np.zeros_like(frame2)\n",
    "            cv2.circle(mask, (int(x), int(y)), 5, (0, 255, 0), -1)  # Increase the radius to make it bigger\n",
    "            combined = cv2.addWeighted(frame2, 0.7, mask, 0.3, 0.1)\n",
    "\n",
    "            # Display coordinates of the selected point and tracking result\n",
    "            font_scale = 0.7\n",
    "            font_color = (0, 225, 0)\n",
    "            font_thickness = 1\n",
    "            cv2.putText(combined, f\"Initial Coordinates: ({initial_x}, {initial_y})\", (10, 30), cv2.FONT_HERSHEY_SIMPLEX,\n",
    "                        font_scale, font_color, font_thickness)\n",
    "            \n",
    "            # Calculate and display live coordinates of the tracked point\n",
    "            live_x, live_y = int(x), int(y)\n",
    "            cv2.putText(combined, f\"Live Coordinates: ({live_x}, {live_y})\", (10, 60), cv2.FONT_HERSHEY_SIMPLEX,\n",
    "                        font_scale, font_color, font_thickness)\n",
    "            \n",
    "            cv2.imshow(\"Camera\", combined)\n",
    "\n",
    "        old_frame = new_frame.copy()\n",
    "        old_points = new_points.copy()\n",
    "\n",
    "        key = cv2.waitKey(1)\n",
    "        if key == 27:  # ESC key to exit\n",
    "            break\n",
    "\n",
    "    cap.release()\n",
    "    cv2.destroyAllWindows()\n",
    "\n",
    "if __name__ == \"__main__\":\n",
    "    old_frame, old_points, initial_x, initial_y = initialize_point()\n",
    "    print(\"Selected Point Coordinates: \", initial_x, initial_y)\n",
    "    track_point(old_frame, old_points, initial_x, initial_y)"
   ]
  },
  {
   "cell_type": "markdown",
   "metadata": {},
   "source": [
    "Integration of Lucas-Kanade Optical Flow Tracking using recorded Videos"
   ]
  },
  {
   "cell_type": "code",
   "execution_count": null,
   "metadata": {},
   "outputs": [],
   "source": []
  }
 ],
 "metadata": {
  "kernelspec": {
   "display_name": "Python 3",
   "language": "python",
   "name": "python3"
  },
  "language_info": {
   "codemirror_mode": {
    "name": "ipython",
    "version": 3
   },
   "file_extension": ".py",
   "mimetype": "text/x-python",
   "name": "python",
   "nbconvert_exporter": "python",
   "pygments_lexer": "ipython3",
   "version": "3.11.5"
  }
 },
 "nbformat": 4,
 "nbformat_minor": 2
}
