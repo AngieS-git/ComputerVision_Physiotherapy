{
 "cells": [
  {
   "cell_type": "code",
   "execution_count": 1,
   "metadata": {},
   "outputs": [],
   "source": [
    "import cv2\n",
    "import numpy as nps\n",
    "import matplotlib.pyplot as plt"
   ]
  },
  {
   "cell_type": "markdown",
   "metadata": {},
   "source": [
    "Base Code (cleaned up version)"
   ]
  },
  {
   "cell_type": "code",
   "execution_count": 6,
   "metadata": {},
   "outputs": [
    {
     "name": "stdout",
     "output_type": "stream",
     "text": [
      "Selected Point Coordinates:  200 200\n"
     ]
    }
   ],
   "source": [
    "def initialize_point():\n",
    "    #point is initialized by clicking with the mouse\n",
    "    ix, iy = -1, -1 #note that these values are just random numbers\n",
    "\n",
    "    def onMouse(event, x, y, flags, params):\n",
    "        nonlocal ix, iy\n",
    "        if event == cv2.EVENT_LBUTTONDOWN:\n",
    "            ix, iy = x, y\n",
    "            \n",
    "    \n",
    "    cv2.namedWindow(\"Camera\")\n",
    "    cv2.setMouseCallback(\"Camera\", onMouse)\n",
    "\n",
    "    cap = cv2.VideoCapture(0)\n",
    "\n",
    "    #turn off camera with esc button\n",
    "    while True:\n",
    "        _, frame = cap.read()\n",
    "        \n",
    "\n",
    "        #display coordinates on the camera frame\n",
    "        if ix != -1 and iy != -1:\n",
    "            cv2.putText(frame, f\"Coordinates: ({ix}, {iy})\", (10, 30), cv2.FONT_HERSHEY_SIMPLEX,\n",
    "                        1, (0, 0, 225), 2)\n",
    "            cv2.circle(frame, (ix, iy), 5, (0, 0, 225), -1)\n",
    "\n",
    "        cv2.imshow(\"Camera\", frame)\n",
    "        \n",
    "        if cv2.waitKey(1) == 27:\n",
    "            #old_frame = cv2.cvtColor(frame, cv2.COLOR_BGR2GRAY)\n",
    "            break\n",
    "    \n",
    "    cap.release()\n",
    "    cv2.destroyAllWindows()\n",
    "\n",
    "    return ix, iy\n",
    "\n",
    "if __name__ == \"__main__\":\n",
    "    initial_x, initial_y = initialize_point()\n",
    "    print(\"Selected Point Coordinates: \", initial_x, initial_y)"
   ]
  },
  {
   "cell_type": "markdown",
   "metadata": {},
   "source": [
    "Integration of Lucas-Kanade Optical Flow Tracking using recorded Videos"
   ]
  },
  {
   "cell_type": "code",
   "execution_count": null,
   "metadata": {},
   "outputs": [],
   "source": []
  }
 ],
 "metadata": {
  "kernelspec": {
   "display_name": "Python 3",
   "language": "python",
   "name": "python3"
  },
  "language_info": {
   "codemirror_mode": {
    "name": "ipython",
    "version": 3
   },
   "file_extension": ".py",
   "mimetype": "text/x-python",
   "name": "python",
   "nbconvert_exporter": "python",
   "pygments_lexer": "ipython3",
   "version": "3.11.5"
  }
 },
 "nbformat": 4,
 "nbformat_minor": 2
}
