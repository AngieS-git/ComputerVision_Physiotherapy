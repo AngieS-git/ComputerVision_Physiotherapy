{
 "cells": [
  {
   "cell_type": "code",
   "execution_count": 1,
   "metadata": {},
   "outputs": [],
   "source": [
    "import cv2\n",
    "import numpy as np\n",
    "import time\n",
    "import matplotlib.pyplot as plt"
   ]
  },
  {
   "cell_type": "code",
   "execution_count": 3,
   "metadata": {},
   "outputs": [
    {
     "ename": "error",
     "evalue": "OpenCV(4.8.1) D:\\a\\opencv-python\\opencv-python\\opencv\\modules\\imgproc\\src\\resize.cpp:4062: error: (-215:Assertion failed) !ssize.empty() in function 'cv::resize'\n",
     "output_type": "error",
     "traceback": [
      "\u001b[1;31m---------------------------------------------------------------------------\u001b[0m",
      "\u001b[1;31merror\u001b[0m                                     Traceback (most recent call last)",
      "\u001b[1;32mg:\\THESIS\\LKOF\\ComputerVision_Physiotherapy\\LKST_1implementation.ipynb Cell 2\u001b[0m line \u001b[0;36m9\n\u001b[0;32m     <a href='vscode-notebook-cell:/g%3A/THESIS/LKOF/ComputerVision_Physiotherapy/LKST_1implementation.ipynb#W1sZmlsZQ%3D%3D?line=87'>88</a>\u001b[0m output_fps \u001b[39m=\u001b[39m \u001b[39m1.7\u001b[39m \u001b[39m*\u001b[39m \u001b[39m30\u001b[39m  \u001b[39m# 1.5x speedup\u001b[39;00m\n\u001b[0;32m     <a href='vscode-notebook-cell:/g%3A/THESIS/LKOF/ComputerVision_Physiotherapy/LKST_1implementation.ipynb#W1sZmlsZQ%3D%3D?line=88'>89</a>\u001b[0m feature_tracker \u001b[39m=\u001b[39m FeatureTracking(video_path, output_path, output_fps)\n\u001b[1;32m---> <a href='vscode-notebook-cell:/g%3A/THESIS/LKOF/ComputerVision_Physiotherapy/LKST_1implementation.ipynb#W1sZmlsZQ%3D%3D?line=89'>90</a>\u001b[0m feature_tracker\u001b[39m.\u001b[39;49mprocess_video()\n",
      "\u001b[1;32mg:\\THESIS\\LKOF\\ComputerVision_Physiotherapy\\LKST_1implementation.ipynb Cell 2\u001b[0m line \u001b[0;36m3\n\u001b[0;32m     <a href='vscode-notebook-cell:/g%3A/THESIS/LKOF/ComputerVision_Physiotherapy/LKST_1implementation.ipynb#W1sZmlsZQ%3D%3D?line=34'>35</a>\u001b[0m         \u001b[39mbreak\u001b[39;00m\n\u001b[0;32m     <a href='vscode-notebook-cell:/g%3A/THESIS/LKOF/ComputerVision_Physiotherapy/LKST_1implementation.ipynb#W1sZmlsZQ%3D%3D?line=36'>37</a>\u001b[0m \u001b[39m# Convert to grayscale\u001b[39;00m\n\u001b[1;32m---> <a href='vscode-notebook-cell:/g%3A/THESIS/LKOF/ComputerVision_Physiotherapy/LKST_1implementation.ipynb#W1sZmlsZQ%3D%3D?line=37'>38</a>\u001b[0m frame \u001b[39m=\u001b[39m cv2\u001b[39m.\u001b[39;49mresize(frame, (\u001b[39mself\u001b[39;49m\u001b[39m.\u001b[39;49mframe_width, \u001b[39mself\u001b[39;49m\u001b[39m.\u001b[39;49mframe_height))\n\u001b[0;32m     <a href='vscode-notebook-cell:/g%3A/THESIS/LKOF/ComputerVision_Physiotherapy/LKST_1implementation.ipynb#W1sZmlsZQ%3D%3D?line=38'>39</a>\u001b[0m gray \u001b[39m=\u001b[39m cv2\u001b[39m.\u001b[39mcvtColor(frame, cv2\u001b[39m.\u001b[39mCOLOR_BGR2GRAY)\n\u001b[0;32m     <a href='vscode-notebook-cell:/g%3A/THESIS/LKOF/ComputerVision_Physiotherapy/LKST_1implementation.ipynb#W1sZmlsZQ%3D%3D?line=40'>41</a>\u001b[0m \u001b[39m# Create ROI\u001b[39;00m\n",
      "\u001b[1;31merror\u001b[0m: OpenCV(4.8.1) D:\\a\\opencv-python\\opencv-python\\opencv\\modules\\imgproc\\src\\resize.cpp:4062: error: (-215:Assertion failed) !ssize.empty() in function 'cv::resize'\n"
     ]
    },
    {
     "ename": "",
     "evalue": "",
     "output_type": "error",
     "traceback": [
      "\u001b[1;31mThe Kernel crashed while executing code in the the current cell or a previous cell. Please review the code in the cell(s) to identify a possible cause of the failure. Click <a href='https://aka.ms/vscodeJupyterKernelCrash'>here</a> for more info. View Jupyter <a href='command:jupyter.viewOutput'>log</a> for further details."
     ]
    }
   ],
   "source": [
    "class FeatureTracking:\n",
    "    def __init__(self, video_path, output_path, output_fps):\n",
    "        self.cap = cv2.VideoCapture(video_path)\n",
    "        self.max_corners = 2000\n",
    "        self.quality_level = 0.001\n",
    "        self.min_distance = 0.1\n",
    "\n",
    "        self.lk_params = dict(winSize=(15, 15), maxLevel=3, criteria=(cv2.TERM_CRITERIA_EPS | cv2.TERM_CRITERIA_COUNT, 30, 0.01))\n",
    "\n",
    "        self.frame_width = 1280\n",
    "        self.frame_height = 720\n",
    "\n",
    "        # Region of Interest\n",
    "        self.square_size = (670, 720)\n",
    "        self.square_x = int(self.frame_width - self.square_size[0]) // 2  # since the square will be placed relative to the top left corner of the video\n",
    "        self.square_y = int(self.frame_height - self.square_size[1]) // 2  # we want to make sure that the ROI is placed in the middle\n",
    "        self.square_position = (self.square_x, self.square_y)\n",
    "\n",
    "        self.output_path = output_path\n",
    "        self.output_fps = output_fps\n",
    "\n",
    "    def process_video(self):\n",
    "        ret, prev_frame = self.cap.read()\n",
    "        prev_frame = cv2.resize(prev_frame, (self.frame_width, self.frame_height))  # Resize the frame\n",
    "        prev_gray = cv2.cvtColor(prev_frame, cv2.COLOR_BGR2GRAY)\n",
    "        prev_pts = cv2.goodFeaturesToTrack(prev_gray, maxCorners=self.max_corners, qualityLevel=self.quality_level, minDistance=self.min_distance)\n",
    "\n",
    "        fourcc = cv2.VideoWriter_fourcc(*'XVID')\n",
    "        out = cv2.VideoWriter(self.output_path, fourcc, self.output_fps, (self.frame_width, self.frame_height))\n",
    "\n",
    "        while True:\n",
    "            for _ in range(3):\n",
    "                ret, frame = self.cap.read()\n",
    "                if not ret:\n",
    "                    break\n",
    "\n",
    "            # Convert to grayscale\n",
    "            frame = cv2.resize(frame, (self.frame_width, self.frame_height))\n",
    "            gray = cv2.cvtColor(frame, cv2.COLOR_BGR2GRAY)\n",
    "\n",
    "            # Create ROI\n",
    "            mask = np.zeros(frame.shape[:2], dtype=np.uint8)\n",
    "            x, y, w, h = self.square_position[0], self.square_position[1], self.square_size[0], self.square_size[1]\n",
    "            mask[y:y + h, x:x + w] = 230\n",
    "            masked_frame = cv2.bitwise_and(frame, frame, mask=mask)\n",
    "\n",
    "            # Calculate optical flow using Lucas-Kanade on the masked_frame\n",
    "            prev_frame = cv2.resize(prev_frame, (self.frame_width, self.frame_height))  # Resize the previous frame\n",
    "            new_pts, status, error = cv2.calcOpticalFlowPyrLK(prev_gray, gray, prev_pts, None, **self.lk_params)\n",
    "\n",
    "            valid_new_pts = new_pts[status == 1]\n",
    "            valid_prev_pts = prev_pts[status == 1]\n",
    "\n",
    "            for i, (new, prev) in enumerate(zip(valid_new_pts, valid_prev_pts)):\n",
    "                a, b = new.ravel()\n",
    "                c, d = prev.ravel()\n",
    "                a, b, c, d = int(a), int(b), int(c), int(d)\n",
    "\n",
    "                if self.square_position[0] <= a <= self.square_position[0] + self.square_size[0] and self.square_position[1] <= b <= self.square_position[1] + self.square_size[1]:\n",
    "                    scaling_factor = 5\n",
    "                    a_new = int(a - (a - c) * scaling_factor)\n",
    "                    b_new = int(b - (b - d) * scaling_factor)\n",
    "\n",
    "                    # Limit drawing to the ROI\n",
    "                    mask = cv2.line(mask, (a, b), (a_new, b_new), (0, 255, 0), 2)\n",
    "                    masked_frame = cv2.circle(masked_frame, (a, b), 3, (0, 255, 0), -1)\n",
    "\n",
    "            result = cv2.add(frame, masked_frame)\n",
    "\n",
    "            out.write(result)\n",
    "\n",
    "            cv2.imshow('Frame', result)\n",
    "\n",
    "            k = cv2.waitKey(30) & 0xff\n",
    "            if k == 27:\n",
    "                break\n",
    "\n",
    "            prev_gray = gray.copy()\n",
    "            prev_pts = valid_new_pts.reshape(-1, 1, 2)\n",
    "\n",
    "        self.cap.release()\n",
    "        out.release()\n",
    "        cv2.destroyAllWindows()\n",
    "            \n",
    "if __name__ == \"__main__\":\n",
    "    video_path = \"G:\\THESIS\\SampleVideos\\SMTracking_LongSleeve.mp4\"\n",
    "    output_path = \"G:\\THESIS\\LKOF\\OutputVideos\\output_video.avi\"\n",
    "    output_fps = 1.7 * 30  # 1.5x speedup\n",
    "    feature_tracker = FeatureTracking(video_path, output_path, output_fps)\n",
    "    feature_tracker.process_video()\n"
   ]
  },
  {
   "cell_type": "code",
   "execution_count": null,
   "metadata": {},
   "outputs": [],
   "source": []
  }
 ],
 "metadata": {
  "kernelspec": {
   "display_name": "Python 3",
   "language": "python",
   "name": "python3"
  },
  "language_info": {
   "codemirror_mode": {
    "name": "ipython",
    "version": 3
   },
   "file_extension": ".py",
   "mimetype": "text/x-python",
   "name": "python",
   "nbconvert_exporter": "python",
   "pygments_lexer": "ipython3",
   "version": "3.11.5"
  }
 },
 "nbformat": 4,
 "nbformat_minor": 2
}
