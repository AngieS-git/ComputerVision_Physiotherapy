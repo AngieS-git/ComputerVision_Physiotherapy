{
 "cells": [
  {
   "cell_type": "code",
   "execution_count": 3,
   "metadata": {},
   "outputs": [],
   "source": [
    "import cv2\n",
    "import numpy as np\n",
    "\n",
    "# Load an image\n",
    "image = cv2.imread(\"D:\\MAPUA\\Thesis\\ST_Test1.jpg\")  # Replace 'your_image.jpg' with the path to your image\n",
    "\n",
    "# Convert the image to grayscale\n",
    "gray = cv2.cvtColor(image, cv2.COLOR_BGR2GRAY)\n",
    "\n",
    "# Shi-Tomasi corner detection parameters\n",
    "max_corners = 2000\n",
    "quality_level = 0.001\n",
    "min_distance = 0.1\n",
    "\n",
    "\n",
    "# Detect corners using Shi-Tomasi corner detection\n",
    "corners = cv2.goodFeaturesToTrack(gray, max_corners, quality_level, min_distance)\n",
    "\n",
    "# Convert corners to integers\n",
    "corners = np.int0(corners)\n",
    "\n",
    "# Draw circles around the detected corners\n",
    "for corner in corners:\n",
    "    x, y = corner.ravel()\n",
    "    cv2.circle(image, (x, y), 3, 255, -1)\n",
    "\n",
    "# Display the result\n",
    "cv2.imshow('Shi-Tomasi Corner Detection', image)\n",
    "cv2.waitKey(0)\n",
    "cv2.destroyAllWindows()"
   ]
  }
 ],
 "metadata": {
  "kernelspec": {
   "display_name": "Python 3",
   "language": "python",
   "name": "python3"
  },
  "language_info": {
   "codemirror_mode": {
    "name": "ipython",
    "version": 3
   },
   "file_extension": ".py",
   "mimetype": "text/x-python",
   "name": "python",
   "nbconvert_exporter": "python",
   "pygments_lexer": "ipython3",
   "version": "3.11.4"
  }
 },
 "nbformat": 4,
 "nbformat_minor": 2
}
