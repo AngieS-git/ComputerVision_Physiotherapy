{
 "cells": [
  {
   "cell_type": "code",
   "execution_count": null,
   "metadata": {},
   "outputs": [],
   "source": [
    "import os\n",
    "import shutil\n",
    "\n",
    "def combine_folders(source_folders, destination_folder):\n",
    "    # Find the maximum number in the existing files in the destination folder\n",
    "    max_number = 0\n",
    "    for file_name in os.listdir('G:\\THESIS\\Code\\ComputerVision_Physiotherapy\\Images\\SNL'):\n",
    "        if file_name.startswith(\"optical_flow_\") and file_name[12:].isdigit():\n",
    "            number = int(file_name[12:])\n",
    "            max_number = max(max_number, number)\n",
    "\n",
    "    # Copy files from source to destination with incremented numbers\n",
    "    for source_folder in source_folders:\n",
    "        source_files = os.listdir(source_folder)\n",
    "        for file_name in source_files:\n",
    "            if file_name.startswith(\"optical_flow_\"):\n",
    "                max_number += 1\n",
    "                _, extension = os.path.splitext(file_name)\n",
    "                new_file_name = f\"optical_flow_{str(max_number).zfill(4)}{extension}\"\n",
    "                source_path = os.path.join(source_folder, file_name)\n",
    "                destination_path = os.path.join(destination_folder, new_file_name)\n",
    "                shutil.copy(source_path, destination_path)\n",
    "                print(f\"Copying {file_name} to {new_file_name}\")\n",
    "\n",
    "if __name__ == \"__main__\":\n",
    "    # Specify your source folders and destination folder\n",
    "    source_folders = []\n",
    "    while True:\n",
    "        folder_path = input(\"Enter the path for a source folder (type 'done' when finished): \")\n",
    "        if folder_path.lower() == 'done':\n",
    "            break\n",
    "        elif os.path.isdir(folder_path):\n",
    "            source_folders.append(folder_path)\n",
    "        else:\n",
    "            print(\"Invalid folder path. Please enter a valid path.\")\n",
    "\n",
    "    destination_folder = input(\"Enter the path for the destination folder: \")\n",
    "\n",
    "    # Combine folders\n",
    "    combine_folders(source_folders, destination_folder)"
   ]
  }
 ],
 "metadata": {
  "language_info": {
   "name": "python"
  }
 },
 "nbformat": 4,
 "nbformat_minor": 2
}
