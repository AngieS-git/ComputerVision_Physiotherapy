{
 "cells": [
  {
   "cell_type": "code",
   "execution_count": 1,
   "metadata": {},
   "outputs": [],
   "source": [
    "import cv2\n",
    "import mediapipe as mp\n",
    "import numpy as np\n",
    "mp_drawing = mp.solutions.drawing_utils\n",
    "mp_pose = mp.solutions.pose"
   ]
  },
  {
   "cell_type": "code",
   "execution_count": 2,
   "metadata": {},
   "outputs": [
    {
     "ename": "ModuleNotFoundError",
     "evalue": "No module named 'windows'",
     "output_type": "error",
     "traceback": [
      "\u001b[1;31m---------------------------------------------------------------------------\u001b[0m",
      "\u001b[1;31mModuleNotFoundError\u001b[0m                       Traceback (most recent call last)",
      "Cell \u001b[1;32mIn[2], line 3\u001b[0m\n\u001b[0;32m      1\u001b[0m \u001b[39mimport\u001b[39;00m \u001b[39mcv2\u001b[39;00m\n\u001b[0;32m      2\u001b[0m \u001b[39mimport\u001b[39;00m \u001b[39mnumpy\u001b[39;00m \u001b[39mas\u001b[39;00m \u001b[39mnp\u001b[39;00m\n\u001b[1;32m----> 3\u001b[0m \u001b[39mfrom\u001b[39;00m \u001b[39mpymouse\u001b[39;00m \u001b[39mimport\u001b[39;00m PyMouse\n\u001b[0;32m      5\u001b[0m \u001b[39m# Parameters for Lucas-Kanade optical flow\u001b[39;00m\n\u001b[0;32m      6\u001b[0m lk_params \u001b[39m=\u001b[39m \u001b[39mdict\u001b[39m(winSize\u001b[39m=\u001b[39m(\u001b[39m30\u001b[39m, \u001b[39m30\u001b[39m),\n\u001b[0;32m      7\u001b[0m                  maxLevel\u001b[39m=\u001b[39m\u001b[39m2\u001b[39m,\n\u001b[0;32m      8\u001b[0m                  criteria\u001b[39m=\u001b[39m(cv2\u001b[39m.\u001b[39mTERM_CRITERIA_EPS \u001b[39m|\u001b[39m cv2\u001b[39m.\u001b[39mTERM_CRITERIA_COUNT, \u001b[39m10\u001b[39m, \u001b[39m0.03\u001b[39m))\n",
      "File \u001b[1;32md:\\Python\\Lib\\site-packages\\pymouse\\__init__.py:92\u001b[0m\n\u001b[0;32m     89\u001b[0m     \u001b[39mfrom\u001b[39;00m \u001b[39mmac\u001b[39;00m \u001b[39mimport\u001b[39;00m PyMouse, PyMouseEvent\n\u001b[0;32m     91\u001b[0m \u001b[39melif\u001b[39;00m sys\u001b[39m.\u001b[39mplatform \u001b[39m==\u001b[39m \u001b[39m'\u001b[39m\u001b[39mwin32\u001b[39m\u001b[39m'\u001b[39m:\n\u001b[1;32m---> 92\u001b[0m     \u001b[39mfrom\u001b[39;00m \u001b[39mwindows\u001b[39;00m \u001b[39mimport\u001b[39;00m PyMouse, PyMouseEvent\n\u001b[0;32m     94\u001b[0m \u001b[39melse\u001b[39;00m:\n\u001b[0;32m     95\u001b[0m     \u001b[39mfrom\u001b[39;00m \u001b[39munix\u001b[39;00m \u001b[39mimport\u001b[39;00m PyMouse, PyMouseEvent\n",
      "\u001b[1;31mModuleNotFoundError\u001b[0m: No module named 'windows'"
     ]
    }
   ],
   "source": [
    "import cv2\n",
    "import numpy as np\n",
    "import pymouse \n",
    "# Parameters for Lucas-Kanade optical flow\n",
    "lk_params = dict(winSize=(30, 30),\n",
    "                 maxLevel=2,\n",
    "                 criteria=(cv2.TERM_CRITERIA_EPS | cv2.TERM_CRITERIA_COUNT, 10, 0.03))\n",
    "\n",
    "# Initialize video capture\n",
    "cap = cv2.VideoCapture(0)\n",
    "\n",
    "# Read the first frame\n",
    "ret, old_frame = cap.read()\n",
    "old_gray = cv2.cvtColor(old_frame, cv2.COLOR_BGR2GRAY)\n",
    "\n",
    "# Set initial tracking point\n",
    "p0 = None\n",
    "\n",
    "# Mouse callback function for initial point selection\n",
    "def select_point(event, x, y, flags, param):\n",
    "    global p0\n",
    "    if event == cv2.EVENT_LBUTTONDOWN:\n",
    "        p0 = np.array([[x, y]], dtype=np.float32)\n",
    "\n",
    "# Create a window and bind the mouse callback function\n",
    "cv2.namedWindow('Frame')\n",
    "\n",
    "# Initialize PyMouse\n",
    "mouse = PyMouse()\n",
    "\n",
    "while True:\n",
    "    # Read the current frame\n",
    "    ret, frame = cap.read()\n",
    "    if not ret:\n",
    "        break\n",
    "    frame_gray = cv2.cvtColor(frame, cv2.COLOR_BGR2GRAY)\n",
    "\n",
    "    # Display instructions for selecting the initial point\n",
    "    cv2.putText(frame, \"Select the initial point by clicking\", (10, 30), cv2.FONT_HERSHEY_SIMPLEX, 0.7, (0, 0, 255), 2)\n",
    "\n",
    "    # If the initial point is selected, proceed with tracking\n",
    "    if p0 is not None:\n",
    "        # Calculate optical flow using Lucas-Kanade algorithm\n",
    "        p1, st, err = cv2.calcOpticalFlowPyrLK(old_gray, frame_gray, p0, None, **lk_params)\n",
    "\n",
    "        # Select good points\n",
    "        good_new = p1[st == 1]\n",
    "        good_old = p0[st == 1]\n",
    "\n",
    "        # Draw the tracking points and motion vectors\n",
    "        for i, (new, old) in enumerate(zip(good_new, good_old)):\n",
    "            a, b = new.ravel()\n",
    "            c, d = old.ravel()\n",
    "            frame = cv2.circle(frame, (int(a), int(b)), 5, (0, 255, 0), -1)\n",
    "            frame = cv2.line(frame, (int(a), int(b)), (int(c), int(d)), (0, 255, 0), 2)\n",
    "\n",
    "        # Update the previous frame and points\n",
    "        old_gray = frame_gray.copy()\n",
    "        p0 = good_new.reshape(-1, 1, 2)\n",
    "\n",
    "    # Display the frame\n",
    "    cv2.imshow('Frame', frame)\n",
    "\n",
    "    # Check for mouse click event\n",
    "    if p0 is None:\n",
    "        mouse_event = mouse.get_mouse_event()\n",
    "        if mouse_event and mouse_event['event_type'] == 'down':\n",
    "            x, y = mouse_event['position']\n",
    "            p0 = np.array([[x, y]], dtype=np.float32)\n",
    "\n",
    "    # Break the loop if the 'q' key is pressed\n",
    "    if cv2.waitKey(1) & 0xFF == ord('q'):\n",
    "        break\n",
    "\n",
    "# Release the video capture and close windows\n",
    "cap.release()\n",
    "cv2.destroyAllWindows()\n"
   ]
  }
 ],
 "metadata": {
  "kernelspec": {
   "display_name": "Python 3",
   "language": "python",
   "name": "python3"
  },
  "language_info": {
   "codemirror_mode": {
    "name": "ipython",
    "version": 3
   },
   "file_extension": ".py",
   "mimetype": "text/x-python",
   "name": "python",
   "nbconvert_exporter": "python",
   "pygments_lexer": "ipython3",
   "version": "3.11.4"
  },
  "orig_nbformat": 4
 },
 "nbformat": 4,
 "nbformat_minor": 2
}
